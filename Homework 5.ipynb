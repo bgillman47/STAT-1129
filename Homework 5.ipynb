{
 "cells": [
  {
   "cell_type": "code",
   "execution_count": 1,
   "metadata": {},
   "outputs": [
    {
     "name": "stdout",
     "output_type": "stream",
     "text": [
      "5:30\n"
     ]
    }
   ],
   "source": [
    "class Clock():\n",
    "    def __init__(self, time):\n",
    "        self.time=time\n",
    "    def print_time(self):\n",
    "        time= '6:30'\n",
    "        print(self.time)\n",
    "clock= Clock('5:30')\n",
    "clock.print_time()"
   ]
  },
  {
   "cell_type": "code",
   "execution_count": 2,
   "metadata": {},
   "outputs": [
    {
     "name": "stdout",
     "output_type": "stream",
     "text": [
      "10:30\n"
     ]
    }
   ],
   "source": [
    "class Clock():\n",
    "    def __init__(self, time):\n",
    "        self.time=time\n",
    "    def print_time(self, time):\n",
    "        print (time)\n",
    "clock= Clock('5:30')\n",
    "clock.print_time('10:30')"
   ]
  },
  {
   "cell_type": "code",
   "execution_count": 3,
   "metadata": {},
   "outputs": [
    {
     "name": "stdout",
     "output_type": "stream",
     "text": [
      "5:30\n",
      "10:30\n"
     ]
    }
   ],
   "source": [
    "class Clock():\n",
    "    def __init__(self, time):\n",
    "        self.time=time\n",
    "    def print_time(self):\n",
    "        print(self.time)\n",
    "class Clock1(Clock):\n",
    "    pass\n",
    "boston_clock=Clock('5:30')\n",
    "paris_clock= Clock('10:30')\n",
    "boston_clock.print_time()\n",
    "paris_clock.print_time()"
   ]
  },
  {
   "cell_type": "code",
   "execution_count": 4,
   "metadata": {},
   "outputs": [],
   "source": [
    "#initialize the queue\n",
    "#create functions to add and delete items from the list, if/else statement for empty list\n",
    "#make the output of the queue readable\n",
    "class Queue:\n",
    "    def __init__(self):\n",
    "        self.items = []\n",
    "    def add(self, item):\n",
    "        self.items.insert(0,item)\n",
    "    def remove(self):\n",
    "        if self.items == []:\n",
    "            print (\"the queue is empty\")\n",
    "        else:\n",
    "            return self.items.pop()\n",
    "    def __str__(self):\n",
    "        return f'{self.items}'"
   ]
  },
  {
   "cell_type": "code",
   "execution_count": 5,
   "metadata": {},
   "outputs": [
    {
     "name": "stdout",
     "output_type": "stream",
     "text": [
      "[]\n"
     ]
    }
   ],
   "source": [
    "initial=Queue()\n",
    "print(initial)"
   ]
  },
  {
   "cell_type": "code",
   "execution_count": 6,
   "metadata": {},
   "outputs": [
    {
     "name": "stdout",
     "output_type": "stream",
     "text": [
      "[15, 10, 5]\n"
     ]
    }
   ],
   "source": [
    "initial.add(5)\n",
    "initial.add(10)\n",
    "initial.add(15)\n",
    "print(initial)"
   ]
  },
  {
   "cell_type": "code",
   "execution_count": 7,
   "metadata": {},
   "outputs": [
    {
     "data": {
      "text/plain": [
       "5"
      ]
     },
     "execution_count": 7,
     "metadata": {},
     "output_type": "execute_result"
    }
   ],
   "source": [
    "initial.remove()"
   ]
  },
  {
   "cell_type": "code",
   "execution_count": 8,
   "metadata": {},
   "outputs": [
    {
     "name": "stdout",
     "output_type": "stream",
     "text": [
      "the queue is empty\n"
     ]
    }
   ],
   "source": [
    "initial.remove()\n",
    "initial.remove()\n",
    "initial.remove()"
   ]
  },
  {
   "cell_type": "code",
   "execution_count": 9,
   "metadata": {},
   "outputs": [
    {
     "name": "stdout",
     "output_type": "stream",
     "text": [
      "[]\n"
     ]
    }
   ],
   "source": [
    "print(initial)"
   ]
  },
  {
   "cell_type": "code",
   "execution_count": null,
   "metadata": {},
   "outputs": [],
   "source": []
  }
 ],
 "metadata": {
  "kernelspec": {
   "display_name": "Python 3",
   "language": "python",
   "name": "python3"
  },
  "language_info": {
   "codemirror_mode": {
    "name": "ipython",
    "version": 3
   },
   "file_extension": ".py",
   "mimetype": "text/x-python",
   "name": "python",
   "nbconvert_exporter": "python",
   "pygments_lexer": "ipython3",
   "version": "3.8.5"
  }
 },
 "nbformat": 4,
 "nbformat_minor": 4
}
