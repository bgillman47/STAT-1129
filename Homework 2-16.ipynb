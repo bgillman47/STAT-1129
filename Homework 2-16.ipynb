{
 "cells": [
  {
   "cell_type": "code",
   "execution_count": 1,
   "metadata": {},
   "outputs": [
    {
     "name": "stdout",
     "output_type": "stream",
     "text": [
      "Andy 88\n",
      "Amy 66\n",
      "James 90\n",
      "Jules 55\n",
      "Arthur 77\n"
     ]
    }
   ],
   "source": [
    "marks = {'Andy':88, 'Amy':66, 'James': 90, 'Jules': 55, 'Arthur': 77}\n",
    "for student in marks:\n",
    "  print (student, marks[student])"
   ]
  },
  {
   "cell_type": "code",
   "execution_count": 15,
   "metadata": {},
   "outputs": [
    {
     "name": "stdout",
     "output_type": "stream",
     "text": [
      "75.2\n",
      "90\n",
      "55\n"
     ]
    }
   ],
   "source": [
    "marks = {'Andy':88, 'Amy':66, 'James': 90, 'Jules': 55, 'Arthur': 77}\n",
    "mean=0\n",
    "for grades in marks.values():\n",
    "    mean+= grades\n",
    "mean= mean/len(marks)\n",
    "print(mean)\n",
    "maximum = max(marks, key=marks.get)\n",
    "print(marks[maximum])\n",
    "minimum = min(marks, key=marks.get)\n",
    "print(marks[minimum])"
   ]
  },
  {
   "cell_type": "code",
   "execution_count": 18,
   "metadata": {},
   "outputs": [
    {
     "name": "stdout",
     "output_type": "stream",
     "text": [
      "Andy\n",
      "Amy\n"
     ]
    }
   ],
   "source": [
    "marks = {'Andy':88, 'Amy':66, 'James': 90, 'Jules': 55, 'Arthur': 77}\n",
    "for students in marks:\n",
    "    if 'J' in students:\n",
    "        break\n",
    "    print(students)"
   ]
  },
  {
   "cell_type": "code",
   "execution_count": 20,
   "metadata": {},
   "outputs": [
    {
     "name": "stdout",
     "output_type": "stream",
     "text": [
      "Andy\n",
      "Amy\n",
      "Arthur\n"
     ]
    }
   ],
   "source": [
    "marks = {'Andy':88, 'Amy':66, 'James': 90, 'Jules': 55, 'Arthur': 77}\n",
    "for students in marks:\n",
    "    if 'J' in students:\n",
    "        continue\n",
    "    print(students)"
   ]
  },
  {
   "cell_type": "code",
   "execution_count": 24,
   "metadata": {},
   "outputs": [
    {
     "name": "stdout",
     "output_type": "stream",
     "text": [
      "66\n"
     ]
    }
   ],
   "source": [
    "marks = {'Andy':88, 'Amy':66, 'James': 90, 'Jules': 55, 'Arthur': 77}\n",
    "def grades_function (student):\n",
    "    if student in marks:\n",
    "        print (marks[student])\n",
    "    else:\n",
    "        print (\"Name\", student, \"does not exist\")\n",
    "grades_function('Amy')"
   ]
  },
  {
   "cell_type": "code",
   "execution_count": null,
   "metadata": {},
   "outputs": [],
   "source": []
  }
 ],
 "metadata": {
  "kernelspec": {
   "display_name": "Python 3",
   "language": "python",
   "name": "python3"
  },
  "language_info": {
   "codemirror_mode": {
    "name": "ipython",
    "version": 3
   },
   "file_extension": ".py",
   "mimetype": "text/x-python",
   "name": "python",
   "nbconvert_exporter": "python",
   "pygments_lexer": "ipython3",
   "version": "3.8.5"
  }
 },
 "nbformat": 4,
 "nbformat_minor": 4
}
