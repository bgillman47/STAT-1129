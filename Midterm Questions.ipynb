{
 "cells": [
  {
   "cell_type": "code",
   "execution_count": null,
   "metadata": {},
   "outputs": [],
   "source": [
    "#Question 1, Changing List to Dictionary, plotting dictionary, storing as Json\n",
    "x = [2,4,6,8,4,5,2,1,9,0,4,6,7,4,3,2,1,9,10,3,7,9,6,0,1,3,5,6,7,8,9,10,2,3,6,8,9,10,6,7,4,3]"
   ]
  },
  {
   "cell_type": "code",
   "execution_count": 1,
   "metadata": {},
   "outputs": [
    {
     "name": "stdout",
     "output_type": "stream",
     "text": [
      " 2 :  4\n",
      " 4 :  5\n",
      " 6 :  6\n",
      " 8 :  3\n",
      " 5 :  2\n",
      " 1 :  3\n",
      " 9 :  5\n",
      " 0 :  2\n",
      " 7 :  4\n",
      " 3 :  5\n",
      " 10 :  3\n"
     ]
    }
   ],
   "source": [
    "def Counting(x):\n",
    "    count = {}\n",
    "    for items in x:\n",
    "        count[items]= x.count(items)\n",
    "    for key, value in count.items():\n",
    "        print (\"% d : % d\"%(key, value))\n",
    "if __name__ == \"__main__\": \n",
    "    x = [2,4,6,8,4,5,2,1,9,0,4,6,7,4,3,2,1,9,10,3,7,9,6,0,1,3,5,6,7,8,9,10,2,3,6,8,9,10,6,7,4,3]\n",
    "    Counting(x)\n",
    "\n"
   ]
  },
  {
   "cell_type": "code",
   "execution_count": 3,
   "metadata": {},
   "outputs": [
    {
     "data": {
      "text/plain": [
       "<BarContainer object of 11 artists>"
      ]
     },
     "execution_count": 3,
     "metadata": {},
     "output_type": "execute_result"
    },
    {
     "data": {
      "image/png": "[encoded data removed]",
      "text/plain": [
       "<Figure size 720x216 with 1 Axes>"
      ]
     },
     "metadata": {
      "needs_background": "light"
     },
     "output_type": "display_data"
    }
   ],
   "source": [
    "count = { 2 :  4, 4 :  5, 6 :  6, 8 :  3, 5 :  2, 1 :  3, 9 :  5, 0 :  2, 7 :  4, 3 :  5, 10 :  3}\n",
    "import matplotlib.pyplot as plt\n",
    "import numpy as np\n",
    "plt.figure(figsize=(10, 3))\n",
    "plt.bar(range(len(count)), count.values(), align='edge', width=0.3)"
   ]
  },
  {
   "cell_type": "code",
   "execution_count": 4,
   "metadata": {},
   "outputs": [
    {
     "name": "stdout",
     "output_type": "stream",
     "text": [
      "{\n",
      "    \"2\": 4,\n",
      "    \"4\": 5,\n",
      "    \"6\": 6,\n",
      "    \"8\": 3,\n",
      "    \"5\": 2,\n",
      "    \"1\": 3,\n",
      "    \"9\": 5,\n",
      "    \"0\": 2,\n",
      "    \"7\": 4,\n",
      "    \"3\": 5,\n",
      "    \"10\": 3\n",
      "}\n"
     ]
    }
   ],
   "source": [
    "import json\n",
    "json_count = json.dumps(count, indent = 4)\n",
    "print(json_count)"
   ]
  },
  {
   "cell_type": "code",
   "execution_count": 5,
   "metadata": {},
   "outputs": [
    {
     "data": {
      "text/plain": [
       "(66, 23)"
      ]
     },
     "execution_count": 5,
     "metadata": {},
     "output_type": "execute_result"
    }
   ],
   "source": [
    "#Question 2, Analyzing My Amazon Spending Patterns\n",
    "import pandas as pd\n",
    "df = pd.read_csv('C:/stats/amazon.csv')\n",
    "#Size of dataframe\n",
    "df.shape"
   ]
  },
  {
   "cell_type": "code",
   "execution_count": 6,
   "metadata": {},
   "outputs": [
    {
     "data": {
      "text/html": [
       "<div>\n",
       "<style scoped>\n",
       "    .dataframe tbody tr th:only-of-type {\n",
       "        vertical-align: middle;\n",
       "    }\n",
       "\n",
       "    .dataframe tbody tr th {\n",
       "        vertical-align: top;\n",
       "    }\n",
       "\n",
       "    .dataframe thead th {\n",
       "        text-align: right;\n",
       "    }\n",
       "</style>\n",
       "<table border=\"1\" class=\"dataframe\">\n",
       "  <thead>\n",
       "    <tr style=\"text-align: right;\">\n",
       "      <th></th>\n",
       "      <th>Order Date</th>\n",
       "      <th>Order ID</th>\n",
       "      <th>Payment Instrument Type</th>\n",
       "      <th>Website</th>\n",
       "      <th>Purchase Order Number</th>\n",
       "      <th>Ordering Customer Email</th>\n",
       "      <th>Shipment Date</th>\n",
       "      <th>Shipping Address Name</th>\n",
       "      <th>Shipping Address Street 1</th>\n",
       "      <th>Shipping Address Street 2</th>\n",
       "      <th>...</th>\n",
       "      <th>Order Status</th>\n",
       "      <th>Carrier Name &amp; Tracking Number</th>\n",
       "      <th>Subtotal</th>\n",
       "      <th>Shipping Charge</th>\n",
       "      <th>Tax Before Promotions</th>\n",
       "      <th>Total Promotions</th>\n",
       "      <th>Tax Charged</th>\n",
       "      <th>Total Charged</th>\n",
       "      <th>Buyer Name</th>\n",
       "      <th>Group Name</th>\n",
       "    </tr>\n",
       "  </thead>\n",
       "  <tbody>\n",
       "    <tr>\n",
       "      <th>0</th>\n",
       "      <td>9/30/2017</td>\n",
       "      <td>114-6624370-4753008</td>\n",
       "      <td>Visa - 9252</td>\n",
       "      <td>Amazon.com</td>\n",
       "      <td>NaN</td>\n",
       "      <td>benhgillman@gmail.com</td>\n",
       "      <td>10/1/2017</td>\n",
       "      <td>Ben Gillman</td>\n",
       "      <td>7726 FISHER RD</td>\n",
       "      <td>NaN</td>\n",
       "      <td>...</td>\n",
       "      <td>Shipped</td>\n",
       "      <td>UPS(1Z885V7Y0349361495)</td>\n",
       "      <td>$6.99</td>\n",
       "      <td>$7.24</td>\n",
       "      <td>$0.00</td>\n",
       "      <td>$0.00</td>\n",
       "      <td>$0.00</td>\n",
       "      <td>$14.23</td>\n",
       "      <td>Ben Gillman</td>\n",
       "      <td>NaN</td>\n",
       "    </tr>\n",
       "    <tr>\n",
       "      <th>1</th>\n",
       "      <td>10/20/2017</td>\n",
       "      <td>114-3518400-8105039</td>\n",
       "      <td>Visa - 9252 and Gift Certificate/Card</td>\n",
       "      <td>Amazon.com</td>\n",
       "      <td>NaN</td>\n",
       "      <td>benhgillman@gmail.com</td>\n",
       "      <td>10/22/2017</td>\n",
       "      <td>Ben Gillman</td>\n",
       "      <td>7726 FISHER RD</td>\n",
       "      <td>NaN</td>\n",
       "      <td>...</td>\n",
       "      <td>Shipped</td>\n",
       "      <td>USPS(9405511699000255036048)</td>\n",
       "      <td>$16.32</td>\n",
       "      <td>$9.95</td>\n",
       "      <td>$0.00</td>\n",
       "      <td>$0.00</td>\n",
       "      <td>$0.00</td>\n",
       "      <td>$26.27</td>\n",
       "      <td>Ben Gillman</td>\n",
       "      <td>NaN</td>\n",
       "    </tr>\n",
       "    <tr>\n",
       "      <th>2</th>\n",
       "      <td>10/20/2017</td>\n",
       "      <td>114-4051953-2738647</td>\n",
       "      <td>Gift Certificate/Card and Visa - 9252</td>\n",
       "      <td>Amazon.com</td>\n",
       "      <td>NaN</td>\n",
       "      <td>benhgillman@gmail.com</td>\n",
       "      <td>10/21/2017</td>\n",
       "      <td>Ben Gillman</td>\n",
       "      <td>7726 FISHER RD</td>\n",
       "      <td>NaN</td>\n",
       "      <td>...</td>\n",
       "      <td>Shipped</td>\n",
       "      <td>USPS(9361289670090318983297)</td>\n",
       "      <td>$35.50</td>\n",
       "      <td>$0.00</td>\n",
       "      <td>$2.93</td>\n",
       "      <td>$0.00</td>\n",
       "      <td>$2.93</td>\n",
       "      <td>$38.43</td>\n",
       "      <td>Ben Gillman</td>\n",
       "      <td>NaN</td>\n",
       "    </tr>\n",
       "  </tbody>\n",
       "</table>\n",
       "<p>3 rows × 23 columns</p>\n",
       "</div>"
      ],
      "text/plain": [
       "   Order Date             Order ID                Payment Instrument Type  \\\n",
       "0   9/30/2017  114-6624370-4753008                            Visa - 9252   \n",
       "1  10/20/2017  114-3518400-8105039  Visa - 9252 and Gift Certificate/Card   \n",
       "2  10/20/2017  114-4051953-2738647  Gift Certificate/Card and Visa - 9252   \n",
       "\n",
       "      Website  Purchase Order Number Ordering Customer Email Shipment Date  \\\n",
       "0  Amazon.com                    NaN   benhgillman@gmail.com     10/1/2017   \n",
       "1  Amazon.com                    NaN   benhgillman@gmail.com    10/22/2017   \n",
       "2  Amazon.com                    NaN   benhgillman@gmail.com    10/21/2017   \n",
       "\n",
       "  Shipping Address Name Shipping Address Street 1  Shipping Address Street 2  \\\n",
       "0           Ben Gillman            7726 FISHER RD                        NaN   \n",
       "1           Ben Gillman            7726 FISHER RD                        NaN   \n",
       "2           Ben Gillman            7726 FISHER RD                        NaN   \n",
       "\n",
       "   ... Order Status Carrier Name & Tracking Number Subtotal Shipping Charge  \\\n",
       "0  ...      Shipped        UPS(1Z885V7Y0349361495)   $6.99           $7.24    \n",
       "1  ...      Shipped   USPS(9405511699000255036048)  $16.32           $9.95    \n",
       "2  ...      Shipped   USPS(9361289670090318983297)  $35.50           $0.00    \n",
       "\n",
       "  Tax Before Promotions Total Promotions Tax Charged Total Charged  \\\n",
       "0                $0.00            $0.00       $0.00        $14.23    \n",
       "1                $0.00            $0.00       $0.00        $26.27    \n",
       "2                $2.93            $0.00       $2.93        $38.43    \n",
       "\n",
       "    Buyer Name Group Name  \n",
       "0  Ben Gillman        NaN  \n",
       "1  Ben Gillman        NaN  \n",
       "2  Ben Gillman        NaN  \n",
       "\n",
       "[3 rows x 23 columns]"
      ]
     },
     "execution_count": 6,
     "metadata": {},
     "output_type": "execute_result"
    }
   ],
   "source": [
    "#Read first 3 rows of data \n",
    "df.head(3)"
   ]
  },
  {
   "cell_type": "code",
   "execution_count": 7,
   "metadata": {},
   "outputs": [
    {
     "data": {
      "text/html": [
       "<div>\n",
       "<style scoped>\n",
       "    .dataframe tbody tr th:only-of-type {\n",
       "        vertical-align: middle;\n",
       "    }\n",
       "\n",
       "    .dataframe tbody tr th {\n",
       "        vertical-align: top;\n",
       "    }\n",
       "\n",
       "    .dataframe thead th {\n",
       "        text-align: right;\n",
       "    }\n",
       "</style>\n",
       "<table border=\"1\" class=\"dataframe\">\n",
       "  <thead>\n",
       "    <tr style=\"text-align: right;\">\n",
       "      <th></th>\n",
       "      <th>Order Date</th>\n",
       "      <th>Order ID</th>\n",
       "      <th>Payment Instrument Type</th>\n",
       "      <th>Website</th>\n",
       "      <th>Purchase Order Number</th>\n",
       "      <th>Ordering Customer Email</th>\n",
       "      <th>Shipment Date</th>\n",
       "      <th>Shipping Address Name</th>\n",
       "      <th>Shipping Address Street 1</th>\n",
       "      <th>Shipping Address Street 2</th>\n",
       "      <th>...</th>\n",
       "      <th>Order Status</th>\n",
       "      <th>Carrier Name &amp; Tracking Number</th>\n",
       "      <th>Subtotal</th>\n",
       "      <th>Shipping Charge</th>\n",
       "      <th>Tax Before Promotions</th>\n",
       "      <th>Total Promotions</th>\n",
       "      <th>Tax Charged</th>\n",
       "      <th>Total Charged</th>\n",
       "      <th>Buyer Name</th>\n",
       "      <th>Group Name</th>\n",
       "    </tr>\n",
       "  </thead>\n",
       "  <tbody>\n",
       "    <tr>\n",
       "      <th>0</th>\n",
       "      <td>9/30/2017</td>\n",
       "      <td>114-6624370-4753008</td>\n",
       "      <td>Visa - 9252</td>\n",
       "      <td>Amazon.com</td>\n",
       "      <td>0.0</td>\n",
       "      <td>benhgillman@gmail.com</td>\n",
       "      <td>10/1/2017</td>\n",
       "      <td>Ben Gillman</td>\n",
       "      <td>7726 FISHER RD</td>\n",
       "      <td>0.0</td>\n",
       "      <td>...</td>\n",
       "      <td>Shipped</td>\n",
       "      <td>UPS(1Z885V7Y0349361495)</td>\n",
       "      <td>$6.99</td>\n",
       "      <td>$7.24</td>\n",
       "      <td>$0.00</td>\n",
       "      <td>$0.00</td>\n",
       "      <td>$0.00</td>\n",
       "      <td>$14.23</td>\n",
       "      <td>Ben Gillman</td>\n",
       "      <td>0.0</td>\n",
       "    </tr>\n",
       "    <tr>\n",
       "      <th>1</th>\n",
       "      <td>10/20/2017</td>\n",
       "      <td>114-3518400-8105039</td>\n",
       "      <td>Visa - 9252 and Gift Certificate/Card</td>\n",
       "      <td>Amazon.com</td>\n",
       "      <td>0.0</td>\n",
       "      <td>benhgillman@gmail.com</td>\n",
       "      <td>10/22/2017</td>\n",
       "      <td>Ben Gillman</td>\n",
       "      <td>7726 FISHER RD</td>\n",
       "      <td>0.0</td>\n",
       "      <td>...</td>\n",
       "      <td>Shipped</td>\n",
       "      <td>USPS(9405511699000255036048)</td>\n",
       "      <td>$16.32</td>\n",
       "      <td>$9.95</td>\n",
       "      <td>$0.00</td>\n",
       "      <td>$0.00</td>\n",
       "      <td>$0.00</td>\n",
       "      <td>$26.27</td>\n",
       "      <td>Ben Gillman</td>\n",
       "      <td>0.0</td>\n",
       "    </tr>\n",
       "    <tr>\n",
       "      <th>2</th>\n",
       "      <td>10/20/2017</td>\n",
       "      <td>114-4051953-2738647</td>\n",
       "      <td>Gift Certificate/Card and Visa - 9252</td>\n",
       "      <td>Amazon.com</td>\n",
       "      <td>0.0</td>\n",
       "      <td>benhgillman@gmail.com</td>\n",
       "      <td>10/21/2017</td>\n",
       "      <td>Ben Gillman</td>\n",
       "      <td>7726 FISHER RD</td>\n",
       "      <td>0.0</td>\n",
       "      <td>...</td>\n",
       "      <td>Shipped</td>\n",
       "      <td>USPS(9361289670090318983297)</td>\n",
       "      <td>$35.50</td>\n",
       "      <td>$0.00</td>\n",
       "      <td>$2.93</td>\n",
       "      <td>$0.00</td>\n",
       "      <td>$2.93</td>\n",
       "      <td>$38.43</td>\n",
       "      <td>Ben Gillman</td>\n",
       "      <td>0.0</td>\n",
       "    </tr>\n",
       "  </tbody>\n",
       "</table>\n",
       "<p>3 rows × 23 columns</p>\n",
       "</div>"
      ],
      "text/plain": [
       "   Order Date             Order ID                Payment Instrument Type  \\\n",
       "0   9/30/2017  114-6624370-4753008                            Visa - 9252   \n",
       "1  10/20/2017  114-3518400-8105039  Visa - 9252 and Gift Certificate/Card   \n",
       "2  10/20/2017  114-4051953-2738647  Gift Certificate/Card and Visa - 9252   \n",
       "\n",
       "      Website  Purchase Order Number Ordering Customer Email Shipment Date  \\\n",
       "0  Amazon.com                    0.0   benhgillman@gmail.com     10/1/2017   \n",
       "1  Amazon.com                    0.0   benhgillman@gmail.com    10/22/2017   \n",
       "2  Amazon.com                    0.0   benhgillman@gmail.com    10/21/2017   \n",
       "\n",
       "  Shipping Address Name Shipping Address Street 1  Shipping Address Street 2  \\\n",
       "0           Ben Gillman            7726 FISHER RD                        0.0   \n",
       "1           Ben Gillman            7726 FISHER RD                        0.0   \n",
       "2           Ben Gillman            7726 FISHER RD                        0.0   \n",
       "\n",
       "   ... Order Status Carrier Name & Tracking Number Subtotal Shipping Charge  \\\n",
       "0  ...      Shipped        UPS(1Z885V7Y0349361495)   $6.99           $7.24    \n",
       "1  ...      Shipped   USPS(9405511699000255036048)  $16.32           $9.95    \n",
       "2  ...      Shipped   USPS(9361289670090318983297)  $35.50           $0.00    \n",
       "\n",
       "  Tax Before Promotions Total Promotions Tax Charged Total Charged  \\\n",
       "0                $0.00            $0.00       $0.00        $14.23    \n",
       "1                $0.00            $0.00       $0.00        $26.27    \n",
       "2                $2.93            $0.00       $2.93        $38.43    \n",
       "\n",
       "    Buyer Name Group Name  \n",
       "0  Ben Gillman        0.0  \n",
       "1  Ben Gillman        0.0  \n",
       "2  Ben Gillman        0.0  \n",
       "\n",
       "[3 rows x 23 columns]"
      ]
     },
     "execution_count": 7,
     "metadata": {},
     "output_type": "execute_result"
    }
   ],
   "source": [
    "#Cleaning up the data\n",
    "df = df.fillna(0)\n",
    "df.head(3)"
   ]
  },
  {
   "cell_type": "code",
   "execution_count": 8,
   "metadata": {},
   "outputs": [
    {
     "data": {
      "text/html": [
       "<div>\n",
       "<style scoped>\n",
       "    .dataframe tbody tr th:only-of-type {\n",
       "        vertical-align: middle;\n",
       "    }\n",
       "\n",
       "    .dataframe tbody tr th {\n",
       "        vertical-align: top;\n",
       "    }\n",
       "\n",
       "    .dataframe thead th {\n",
       "        text-align: right;\n",
       "    }\n",
       "</style>\n",
       "<table border=\"1\" class=\"dataframe\">\n",
       "  <thead>\n",
       "    <tr style=\"text-align: right;\">\n",
       "      <th></th>\n",
       "      <th>Order Date</th>\n",
       "      <th>Order ID</th>\n",
       "      <th>Payment Instrument Type</th>\n",
       "      <th>Website</th>\n",
       "      <th>Purchase Order Number</th>\n",
       "      <th>Ordering Customer Email</th>\n",
       "      <th>Shipment Date</th>\n",
       "      <th>Shipping Address Name</th>\n",
       "      <th>Shipping Address Street 1</th>\n",
       "      <th>Shipping Address Street 2</th>\n",
       "      <th>...</th>\n",
       "      <th>Order Status</th>\n",
       "      <th>Carrier Name &amp; Tracking Number</th>\n",
       "      <th>Subtotal</th>\n",
       "      <th>Shipping Charge</th>\n",
       "      <th>Tax Before Promotions</th>\n",
       "      <th>Total Promotions</th>\n",
       "      <th>Tax Charged</th>\n",
       "      <th>Total Charged</th>\n",
       "      <th>Buyer Name</th>\n",
       "      <th>Group Name</th>\n",
       "    </tr>\n",
       "  </thead>\n",
       "  <tbody>\n",
       "    <tr>\n",
       "      <th>0</th>\n",
       "      <td>9/30/2017</td>\n",
       "      <td>114-6624370-4753008</td>\n",
       "      <td>Visa - 9252</td>\n",
       "      <td>Amazon.com</td>\n",
       "      <td>0.0</td>\n",
       "      <td>benhgillman@gmail.com</td>\n",
       "      <td>10/1/2017</td>\n",
       "      <td>Ben Gillman</td>\n",
       "      <td>7726 FISHER RD</td>\n",
       "      <td>0.0</td>\n",
       "      <td>...</td>\n",
       "      <td>Shipped</td>\n",
       "      <td>UPS(1Z885V7Y0349361495)</td>\n",
       "      <td>$6.99</td>\n",
       "      <td>$7.24</td>\n",
       "      <td>$0.00</td>\n",
       "      <td>$0.00</td>\n",
       "      <td>$0.00</td>\n",
       "      <td>14.23</td>\n",
       "      <td>Ben Gillman</td>\n",
       "      <td>0.0</td>\n",
       "    </tr>\n",
       "    <tr>\n",
       "      <th>1</th>\n",
       "      <td>10/20/2017</td>\n",
       "      <td>114-3518400-8105039</td>\n",
       "      <td>Visa - 9252 and Gift Certificate/Card</td>\n",
       "      <td>Amazon.com</td>\n",
       "      <td>0.0</td>\n",
       "      <td>benhgillman@gmail.com</td>\n",
       "      <td>10/22/2017</td>\n",
       "      <td>Ben Gillman</td>\n",
       "      <td>7726 FISHER RD</td>\n",
       "      <td>0.0</td>\n",
       "      <td>...</td>\n",
       "      <td>Shipped</td>\n",
       "      <td>USPS(9405511699000255036048)</td>\n",
       "      <td>$16.32</td>\n",
       "      <td>$9.95</td>\n",
       "      <td>$0.00</td>\n",
       "      <td>$0.00</td>\n",
       "      <td>$0.00</td>\n",
       "      <td>26.27</td>\n",
       "      <td>Ben Gillman</td>\n",
       "      <td>0.0</td>\n",
       "    </tr>\n",
       "    <tr>\n",
       "      <th>2</th>\n",
       "      <td>10/20/2017</td>\n",
       "      <td>114-4051953-2738647</td>\n",
       "      <td>Gift Certificate/Card and Visa - 9252</td>\n",
       "      <td>Amazon.com</td>\n",
       "      <td>0.0</td>\n",
       "      <td>benhgillman@gmail.com</td>\n",
       "      <td>10/21/2017</td>\n",
       "      <td>Ben Gillman</td>\n",
       "      <td>7726 FISHER RD</td>\n",
       "      <td>0.0</td>\n",
       "      <td>...</td>\n",
       "      <td>Shipped</td>\n",
       "      <td>USPS(9361289670090318983297)</td>\n",
       "      <td>$35.50</td>\n",
       "      <td>$0.00</td>\n",
       "      <td>$2.93</td>\n",
       "      <td>$0.00</td>\n",
       "      <td>$2.93</td>\n",
       "      <td>38.43</td>\n",
       "      <td>Ben Gillman</td>\n",
       "      <td>0.0</td>\n",
       "    </tr>\n",
       "    <tr>\n",
       "      <th>3</th>\n",
       "      <td>10/20/2017</td>\n",
       "      <td>114-4051953-2738647</td>\n",
       "      <td>Gift Certificate/Card and Visa - 9252</td>\n",
       "      <td>Amazon.com</td>\n",
       "      <td>0.0</td>\n",
       "      <td>benhgillman@gmail.com</td>\n",
       "      <td>10/21/2017</td>\n",
       "      <td>Ben Gillman</td>\n",
       "      <td>7726 FISHER RD</td>\n",
       "      <td>0.0</td>\n",
       "      <td>...</td>\n",
       "      <td>Shipped</td>\n",
       "      <td>UPS(1ZW6766W0251961320)</td>\n",
       "      <td>$24.29</td>\n",
       "      <td>$0.00</td>\n",
       "      <td>$2.00</td>\n",
       "      <td>$0.00</td>\n",
       "      <td>$2.00</td>\n",
       "      <td>26.29</td>\n",
       "      <td>Ben Gillman</td>\n",
       "      <td>0.0</td>\n",
       "    </tr>\n",
       "    <tr>\n",
       "      <th>4</th>\n",
       "      <td>1/7/2018</td>\n",
       "      <td>114-2599740-1553800</td>\n",
       "      <td>Visa - 9252</td>\n",
       "      <td>Amazon.com</td>\n",
       "      <td>0.0</td>\n",
       "      <td>benhgillman@gmail.com</td>\n",
       "      <td>1/8/2018</td>\n",
       "      <td>Ben Gillman</td>\n",
       "      <td>7726 FISHER RD</td>\n",
       "      <td>0.0</td>\n",
       "      <td>...</td>\n",
       "      <td>Shipped</td>\n",
       "      <td>USPS(9374889670090306532281)</td>\n",
       "      <td>$15.99</td>\n",
       "      <td>$0.00</td>\n",
       "      <td>$0.00</td>\n",
       "      <td>$0.00</td>\n",
       "      <td>$0.00</td>\n",
       "      <td>15.99</td>\n",
       "      <td>Ben Gillman</td>\n",
       "      <td>0.0</td>\n",
       "    </tr>\n",
       "  </tbody>\n",
       "</table>\n",
       "<p>5 rows × 23 columns</p>\n",
       "</div>"
      ],
      "text/plain": [
       "   Order Date             Order ID                Payment Instrument Type  \\\n",
       "0   9/30/2017  114-6624370-4753008                            Visa - 9252   \n",
       "1  10/20/2017  114-3518400-8105039  Visa - 9252 and Gift Certificate/Card   \n",
       "2  10/20/2017  114-4051953-2738647  Gift Certificate/Card and Visa - 9252   \n",
       "3  10/20/2017  114-4051953-2738647  Gift Certificate/Card and Visa - 9252   \n",
       "4    1/7/2018  114-2599740-1553800                            Visa - 9252   \n",
       "\n",
       "      Website  Purchase Order Number Ordering Customer Email Shipment Date  \\\n",
       "0  Amazon.com                    0.0   benhgillman@gmail.com     10/1/2017   \n",
       "1  Amazon.com                    0.0   benhgillman@gmail.com    10/22/2017   \n",
       "2  Amazon.com                    0.0   benhgillman@gmail.com    10/21/2017   \n",
       "3  Amazon.com                    0.0   benhgillman@gmail.com    10/21/2017   \n",
       "4  Amazon.com                    0.0   benhgillman@gmail.com      1/8/2018   \n",
       "\n",
       "  Shipping Address Name Shipping Address Street 1  Shipping Address Street 2  \\\n",
       "0           Ben Gillman            7726 FISHER RD                        0.0   \n",
       "1           Ben Gillman            7726 FISHER RD                        0.0   \n",
       "2           Ben Gillman            7726 FISHER RD                        0.0   \n",
       "3           Ben Gillman            7726 FISHER RD                        0.0   \n",
       "4           Ben Gillman            7726 FISHER RD                        0.0   \n",
       "\n",
       "   ... Order Status Carrier Name & Tracking Number Subtotal Shipping Charge  \\\n",
       "0  ...      Shipped        UPS(1Z885V7Y0349361495)   $6.99           $7.24    \n",
       "1  ...      Shipped   USPS(9405511699000255036048)  $16.32           $9.95    \n",
       "2  ...      Shipped   USPS(9361289670090318983297)  $35.50           $0.00    \n",
       "3  ...      Shipped        UPS(1ZW6766W0251961320)  $24.29           $0.00    \n",
       "4  ...      Shipped   USPS(9374889670090306532281)  $15.99           $0.00    \n",
       "\n",
       "  Tax Before Promotions Total Promotions Tax Charged Total Charged  \\\n",
       "0                $0.00            $0.00       $0.00          14.23   \n",
       "1                $0.00            $0.00       $0.00          26.27   \n",
       "2                $2.93            $0.00       $2.93          38.43   \n",
       "3                $2.00            $0.00       $2.00          26.29   \n",
       "4                $0.00            $0.00       $0.00          15.99   \n",
       "\n",
       "    Buyer Name Group Name  \n",
       "0  Ben Gillman        0.0  \n",
       "1  Ben Gillman        0.0  \n",
       "2  Ben Gillman        0.0  \n",
       "3  Ben Gillman        0.0  \n",
       "4  Ben Gillman        0.0  \n",
       "\n",
       "[5 rows x 23 columns]"
      ]
     },
     "execution_count": 8,
     "metadata": {},
     "output_type": "execute_result"
    }
   ],
   "source": [
    "#Converting \"Total Charged\" values from strings to floats\n",
    "df[\"Total Charged\"] = df[\"Total Charged\"].str.replace('$','').astype(float)\n",
    "df.head()"
   ]
  },
  {
   "cell_type": "code",
   "execution_count": 9,
   "metadata": {},
   "outputs": [
    {
     "data": {
      "text/plain": [
       "1923.6200000000001"
      ]
     },
     "execution_count": 9,
     "metadata": {},
     "output_type": "execute_result"
    }
   ],
   "source": [
    "#Computing total cost of my purchases\n",
    "df[\"Total Charged\"].sum()"
   ]
  },
  {
   "cell_type": "code",
   "execution_count": 10,
   "metadata": {},
   "outputs": [
    {
     "data": {
      "text/plain": [
       "29.145757575757585"
      ]
     },
     "execution_count": 10,
     "metadata": {},
     "output_type": "execute_result"
    }
   ],
   "source": [
    "#Mean of purchases\n",
    "df[\"Total Charged\"].mean()"
   ]
  },
  {
   "cell_type": "code",
   "execution_count": 11,
   "metadata": {},
   "outputs": [
    {
     "data": {
      "text/plain": [
       "17.34"
      ]
     },
     "execution_count": 11,
     "metadata": {},
     "output_type": "execute_result"
    }
   ],
   "source": [
    "#Median of purchases\n",
    "df[\"Total Charged\"].median()"
   ]
  },
  {
   "cell_type": "code",
   "execution_count": 12,
   "metadata": {},
   "outputs": [
    {
     "data": {
      "text/plain": [
       "<AxesSubplot:xlabel='Total Charged'>"
      ]
     },
     "execution_count": 12,
     "metadata": {},
     "output_type": "execute_result"
    },
    {
     "data": {
      "image/png": "[encoded data removed]",
      "text/plain": [
       "<Figure size 432x288 with 1 Axes>"
      ]
     },
     "metadata": {
      "needs_background": "light"
     },
     "output_type": "display_data"
    }
   ],
   "source": [
    "#Create Boxplot of the data\n",
    "import seaborn as sns\n",
    "sns.boxplot(x=df['Total Charged'])"
   ]
  },
  {
   "cell_type": "code",
   "execution_count": 13,
   "metadata": {},
   "outputs": [
    {
     "data": {
      "text/plain": [
       "192.96"
      ]
     },
     "execution_count": 13,
     "metadata": {},
     "output_type": "execute_result"
    }
   ],
   "source": [
    "#Largest Purchase\n",
    "df[\"Total Charged\"].max()"
   ]
  },
  {
   "cell_type": "code",
   "execution_count": 14,
   "metadata": {},
   "outputs": [
    {
     "data": {
      "text/plain": [
       "6.79"
      ]
     },
     "execution_count": 14,
     "metadata": {},
     "output_type": "execute_result"
    }
   ],
   "source": [
    "#Smallest Purchase\n",
    "df[\"Total Charged\"].min()"
   ]
  },
  {
   "cell_type": "code",
   "execution_count": 15,
   "metadata": {},
   "outputs": [
    {
     "data": {
      "text/html": [
       "<div>\n",
       "<style scoped>\n",
       "    .dataframe tbody tr th:only-of-type {\n",
       "        vertical-align: middle;\n",
       "    }\n",
       "\n",
       "    .dataframe tbody tr th {\n",
       "        vertical-align: top;\n",
       "    }\n",
       "\n",
       "    .dataframe thead th {\n",
       "        text-align: right;\n",
       "    }\n",
       "</style>\n",
       "<table border=\"1\" class=\"dataframe\">\n",
       "  <thead>\n",
       "    <tr style=\"text-align: right;\">\n",
       "      <th></th>\n",
       "      <th>Order Date</th>\n",
       "      <th>Order ID</th>\n",
       "      <th>Payment Instrument Type</th>\n",
       "      <th>Website</th>\n",
       "      <th>Purchase Order Number</th>\n",
       "      <th>Ordering Customer Email</th>\n",
       "      <th>Shipment Date</th>\n",
       "      <th>Shipping Address Name</th>\n",
       "      <th>Shipping Address Street 1</th>\n",
       "      <th>Shipping Address Street 2</th>\n",
       "      <th>...</th>\n",
       "      <th>Order Status</th>\n",
       "      <th>Carrier Name &amp; Tracking Number</th>\n",
       "      <th>Subtotal</th>\n",
       "      <th>Shipping Charge</th>\n",
       "      <th>Tax Before Promotions</th>\n",
       "      <th>Total Promotions</th>\n",
       "      <th>Tax Charged</th>\n",
       "      <th>Total Charged</th>\n",
       "      <th>Buyer Name</th>\n",
       "      <th>Group Name</th>\n",
       "    </tr>\n",
       "  </thead>\n",
       "  <tbody>\n",
       "    <tr>\n",
       "      <th>0</th>\n",
       "      <td>2017-09-30</td>\n",
       "      <td>114-6624370-4753008</td>\n",
       "      <td>Visa - 9252</td>\n",
       "      <td>Amazon.com</td>\n",
       "      <td>0.0</td>\n",
       "      <td>benhgillman@gmail.com</td>\n",
       "      <td>10/1/2017</td>\n",
       "      <td>Ben Gillman</td>\n",
       "      <td>7726 FISHER RD</td>\n",
       "      <td>0.0</td>\n",
       "      <td>...</td>\n",
       "      <td>Shipped</td>\n",
       "      <td>UPS(1Z885V7Y0349361495)</td>\n",
       "      <td>$6.99</td>\n",
       "      <td>$7.24</td>\n",
       "      <td>$0.00</td>\n",
       "      <td>$0.00</td>\n",
       "      <td>$0.00</td>\n",
       "      <td>14.23</td>\n",
       "      <td>Ben Gillman</td>\n",
       "      <td>0.0</td>\n",
       "    </tr>\n",
       "    <tr>\n",
       "      <th>1</th>\n",
       "      <td>2017-10-20</td>\n",
       "      <td>114-3518400-8105039</td>\n",
       "      <td>Visa - 9252 and Gift Certificate/Card</td>\n",
       "      <td>Amazon.com</td>\n",
       "      <td>0.0</td>\n",
       "      <td>benhgillman@gmail.com</td>\n",
       "      <td>10/22/2017</td>\n",
       "      <td>Ben Gillman</td>\n",
       "      <td>7726 FISHER RD</td>\n",
       "      <td>0.0</td>\n",
       "      <td>...</td>\n",
       "      <td>Shipped</td>\n",
       "      <td>USPS(9405511699000255036048)</td>\n",
       "      <td>$16.32</td>\n",
       "      <td>$9.95</td>\n",
       "      <td>$0.00</td>\n",
       "      <td>$0.00</td>\n",
       "      <td>$0.00</td>\n",
       "      <td>26.27</td>\n",
       "      <td>Ben Gillman</td>\n",
       "      <td>0.0</td>\n",
       "    </tr>\n",
       "    <tr>\n",
       "      <th>2</th>\n",
       "      <td>2017-10-20</td>\n",
       "      <td>114-4051953-2738647</td>\n",
       "      <td>Gift Certificate/Card and Visa - 9252</td>\n",
       "      <td>Amazon.com</td>\n",
       "      <td>0.0</td>\n",
       "      <td>benhgillman@gmail.com</td>\n",
       "      <td>10/21/2017</td>\n",
       "      <td>Ben Gillman</td>\n",
       "      <td>7726 FISHER RD</td>\n",
       "      <td>0.0</td>\n",
       "      <td>...</td>\n",
       "      <td>Shipped</td>\n",
       "      <td>USPS(9361289670090318983297)</td>\n",
       "      <td>$35.50</td>\n",
       "      <td>$0.00</td>\n",
       "      <td>$2.93</td>\n",
       "      <td>$0.00</td>\n",
       "      <td>$2.93</td>\n",
       "      <td>38.43</td>\n",
       "      <td>Ben Gillman</td>\n",
       "      <td>0.0</td>\n",
       "    </tr>\n",
       "    <tr>\n",
       "      <th>3</th>\n",
       "      <td>2017-10-20</td>\n",
       "      <td>114-4051953-2738647</td>\n",
       "      <td>Gift Certificate/Card and Visa - 9252</td>\n",
       "      <td>Amazon.com</td>\n",
       "      <td>0.0</td>\n",
       "      <td>benhgillman@gmail.com</td>\n",
       "      <td>10/21/2017</td>\n",
       "      <td>Ben Gillman</td>\n",
       "      <td>7726 FISHER RD</td>\n",
       "      <td>0.0</td>\n",
       "      <td>...</td>\n",
       "      <td>Shipped</td>\n",
       "      <td>UPS(1ZW6766W0251961320)</td>\n",
       "      <td>$24.29</td>\n",
       "      <td>$0.00</td>\n",
       "      <td>$2.00</td>\n",
       "      <td>$0.00</td>\n",
       "      <td>$2.00</td>\n",
       "      <td>26.29</td>\n",
       "      <td>Ben Gillman</td>\n",
       "      <td>0.0</td>\n",
       "    </tr>\n",
       "    <tr>\n",
       "      <th>4</th>\n",
       "      <td>2018-01-07</td>\n",
       "      <td>114-2599740-1553800</td>\n",
       "      <td>Visa - 9252</td>\n",
       "      <td>Amazon.com</td>\n",
       "      <td>0.0</td>\n",
       "      <td>benhgillman@gmail.com</td>\n",
       "      <td>1/8/2018</td>\n",
       "      <td>Ben Gillman</td>\n",
       "      <td>7726 FISHER RD</td>\n",
       "      <td>0.0</td>\n",
       "      <td>...</td>\n",
       "      <td>Shipped</td>\n",
       "      <td>USPS(9374889670090306532281)</td>\n",
       "      <td>$15.99</td>\n",
       "      <td>$0.00</td>\n",
       "      <td>$0.00</td>\n",
       "      <td>$0.00</td>\n",
       "      <td>$0.00</td>\n",
       "      <td>15.99</td>\n",
       "      <td>Ben Gillman</td>\n",
       "      <td>0.0</td>\n",
       "    </tr>\n",
       "  </tbody>\n",
       "</table>\n",
       "<p>5 rows × 23 columns</p>\n",
       "</div>"
      ],
      "text/plain": [
       "  Order Date             Order ID                Payment Instrument Type  \\\n",
       "0 2017-09-30  114-6624370-4753008                            Visa - 9252   \n",
       "1 2017-10-20  114-3518400-8105039  Visa - 9252 and Gift Certificate/Card   \n",
       "2 2017-10-20  114-4051953-2738647  Gift Certificate/Card and Visa - 9252   \n",
       "3 2017-10-20  114-4051953-2738647  Gift Certificate/Card and Visa - 9252   \n",
       "4 2018-01-07  114-2599740-1553800                            Visa - 9252   \n",
       "\n",
       "      Website  Purchase Order Number Ordering Customer Email Shipment Date  \\\n",
       "0  Amazon.com                    0.0   benhgillman@gmail.com     10/1/2017   \n",
       "1  Amazon.com                    0.0   benhgillman@gmail.com    10/22/2017   \n",
       "2  Amazon.com                    0.0   benhgillman@gmail.com    10/21/2017   \n",
       "3  Amazon.com                    0.0   benhgillman@gmail.com    10/21/2017   \n",
       "4  Amazon.com                    0.0   benhgillman@gmail.com      1/8/2018   \n",
       "\n",
       "  Shipping Address Name Shipping Address Street 1  Shipping Address Street 2  \\\n",
       "0           Ben Gillman            7726 FISHER RD                        0.0   \n",
       "1           Ben Gillman            7726 FISHER RD                        0.0   \n",
       "2           Ben Gillman            7726 FISHER RD                        0.0   \n",
       "3           Ben Gillman            7726 FISHER RD                        0.0   \n",
       "4           Ben Gillman            7726 FISHER RD                        0.0   \n",
       "\n",
       "   ... Order Status Carrier Name & Tracking Number Subtotal Shipping Charge  \\\n",
       "0  ...      Shipped        UPS(1Z885V7Y0349361495)   $6.99           $7.24    \n",
       "1  ...      Shipped   USPS(9405511699000255036048)  $16.32           $9.95    \n",
       "2  ...      Shipped   USPS(9361289670090318983297)  $35.50           $0.00    \n",
       "3  ...      Shipped        UPS(1ZW6766W0251961320)  $24.29           $0.00    \n",
       "4  ...      Shipped   USPS(9374889670090306532281)  $15.99           $0.00    \n",
       "\n",
       "  Tax Before Promotions Total Promotions Tax Charged Total Charged  \\\n",
       "0                $0.00            $0.00       $0.00          14.23   \n",
       "1                $0.00            $0.00       $0.00          26.27   \n",
       "2                $2.93            $0.00       $2.93          38.43   \n",
       "3                $2.00            $0.00       $2.00          26.29   \n",
       "4                $0.00            $0.00       $0.00          15.99   \n",
       "\n",
       "    Buyer Name Group Name  \n",
       "0  Ben Gillman        0.0  \n",
       "1  Ben Gillman        0.0  \n",
       "2  Ben Gillman        0.0  \n",
       "3  Ben Gillman        0.0  \n",
       "4  Ben Gillman        0.0  \n",
       "\n",
       "[5 rows x 23 columns]"
      ]
     },
     "execution_count": 15,
     "metadata": {},
     "output_type": "execute_result"
    }
   ],
   "source": [
    "df['Order Date'] = pd.to_datetime(df['Order Date'])\n",
    "df.head()"
   ]
  },
  {
   "cell_type": "code",
   "execution_count": 16,
   "metadata": {},
   "outputs": [
    {
     "data": {
      "text/plain": [
       "Order Date\n",
       "2017-09-30    14.23\n",
       "2017-10-20    90.99\n",
       "2018-01-07    15.99\n",
       "2018-01-08    38.61\n",
       "2018-01-31    81.44\n",
       "Name: Total Charged, dtype: float64"
      ]
     },
     "execution_count": 16,
     "metadata": {},
     "output_type": "execute_result"
    }
   ],
   "source": [
    "orders_by_day = df.groupby('Order Date').sum()[\"Total Charged\"]\n",
    "orders_by_day.head()"
   ]
  },
  {
   "cell_type": "code",
   "execution_count": 17,
   "metadata": {},
   "outputs": [
    {
     "data": {
      "text/plain": [
       "<AxesSubplot:xlabel='Order Date'>"
      ]
     },
     "execution_count": 17,
     "metadata": {},
     "output_type": "execute_result"
    },
    {
     "data": {
      "image/png": "[encoded data removed]",
      "text/plain": [
       "<Figure size 1440x720 with 1 Axes>"
      ]
     },
     "metadata": {
      "needs_background": "light"
     },
     "output_type": "display_data"
    }
   ],
   "source": [
    "orders_by_day.plot.bar(figsize=(20,10), color= \"green\")"
   ]
  },
  {
   "cell_type": "code",
   "execution_count": 18,
   "metadata": {},
   "outputs": [],
   "source": [
    "#Checking my cost of shipping\n",
    "df[\"Shipping Charge\"] = df[\"Shipping Charge\"].str.replace('$','').astype(float)"
   ]
  },
  {
   "cell_type": "code",
   "execution_count": 19,
   "metadata": {},
   "outputs": [
    {
     "data": {
      "text/plain": [
       "72.45"
      ]
     },
     "execution_count": 19,
     "metadata": {},
     "output_type": "execute_result"
    }
   ],
   "source": [
    "#Computing total cost of my purchases\n",
    "df[\"Shipping Charge\"].sum()"
   ]
  },
  {
   "cell_type": "code",
   "execution_count": 20,
   "metadata": {},
   "outputs": [
    {
     "data": {
      "text/plain": [
       "1.0977272727272727"
      ]
     },
     "execution_count": 20,
     "metadata": {},
     "output_type": "execute_result"
    }
   ],
   "source": [
    "#Mean of purchases\n",
    "df[\"Shipping Charge\"].mean()"
   ]
  },
  {
   "cell_type": "code",
   "execution_count": null,
   "metadata": {},
   "outputs": [],
   "source": []
  }
 ],
 "metadata": {
  "kernelspec": {
   "display_name": "Python 3",
   "language": "python",
   "name": "python3"
  },
  "language_info": {
   "codemirror_mode": {
    "name": "ipython",
    "version": 3
   },
   "file_extension": ".py",
   "mimetype": "text/x-python",
   "name": "python",
   "nbconvert_exporter": "python",
   "pygments_lexer": "ipython3",
   "version": "3.8.5"
  }
 },
 "nbformat": 4,
 "nbformat_minor": 4
}
